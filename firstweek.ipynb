<b> this notebook will be used in capstone project <b>
import pandas as pd
import numpy as np
print('Hello Capstone Project Course!')

